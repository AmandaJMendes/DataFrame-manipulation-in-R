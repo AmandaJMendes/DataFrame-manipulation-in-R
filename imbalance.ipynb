{
 "cells": [
  {
   "cell_type": "code",
   "execution_count": 186,
   "metadata": {},
   "outputs": [],
   "source": [
    "import pickle\n",
    "import pandas as pd\n",
    "import numpy as np\n",
    "import matplotlib.pyplot as plt"
   ]
  },
  {
   "cell_type": "code",
   "execution_count": 187,
   "metadata": {},
   "outputs": [],
   "source": [
    "def unpickle(file):\n",
    "    with open(file, 'rb') as fo:\n",
    "        data = pickle.load(fo, encoding='bytes')\n",
    "    return data\n",
    "\n",
    "def visualize(data, index):\n",
    "    label = data['label'].iloc[index]\n",
    "    img = data.iloc[index].to_numpy()[:-1].reshape(3, 32, 32)\n",
    "    img = img.transpose(1, 2, 0)\n",
    "    plt.imshow(img)\n",
    "    plt.title(f\"Class {label}\")\n",
    "    \n",
    "def sampling(data, size):\n",
    "    new_df = pd.DataFrame()\n",
    "    for c, n in size.items():\n",
    "        data_c = data[data['label'] == c].sample(n)\n",
    "        new_df = pd.concat((new_df, data_c))\n",
    "    return new_df.reset_index(drop = True)"
   ]
  },
  {
   "cell_type": "code",
   "execution_count": 188,
   "metadata": {},
   "outputs": [],
   "source": [
    "cifar10 = pd.DataFrame()\n",
    "for i in range(5):\n",
    "    file = unpickle(f\"/home/amanda/Downloads/cifar-10-batches-py/data_batch_{i+1}\")\n",
    "    batch = pd.DataFrame((file[b'data']/255).astype('float32'))\n",
    "    batch[\"label\"] = file[b'labels']\n",
    "    cifar10 = pd.concat((cifar10, batch))"
   ]
  },
  {
   "cell_type": "code",
   "execution_count": 189,
   "metadata": {},
   "outputs": [],
   "source": [
    "new_cifar10 = sampling(cifar10, {0: 10,\n",
    "                        1: 100,\n",
    "                        2: 100,\n",
    "                        3: 100,\n",
    "                        4: 100,\n",
    "                        5: 100,\n",
    "                        6: 100,\n",
    "                        7: 100,\n",
    "                        8: 100,\n",
    "                        9: 100})\n",
    "new_cifar10.to_csv(\"testeCIFAR.csv\")\n"
   ]
  }
 ],
 "metadata": {
  "kernelspec": {
   "display_name": "Python 3",
   "language": "python",
   "name": "python3"
  },
  "language_info": {
   "codemirror_mode": {
    "name": "ipython",
    "version": 3
   },
   "file_extension": ".py",
   "mimetype": "text/x-python",
   "name": "python",
   "nbconvert_exporter": "python",
   "pygments_lexer": "ipython3",
   "version": "3.6.9"
  }
 },
 "nbformat": 4,
 "nbformat_minor": 4
}
